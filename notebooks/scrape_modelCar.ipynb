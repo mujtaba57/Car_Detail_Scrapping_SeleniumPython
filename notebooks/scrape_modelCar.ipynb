{
 "cells": [
  {
   "cell_type": "code",
   "execution_count": 66,
   "metadata": {},
   "outputs": [],
   "source": [
    "from selenium import webdriver\n",
    "from selenium.webdriver.support.ui import Select\n",
    "import time\n",
    "from selenium.webdriver.support.ui import WebDriverWait\n",
    "from selenium.webdriver.support import expected_conditions as EC\n",
    "from selenium.webdriver.common.by import By\n",
    "from webdriver_manager.chrome import ChromeDriverManager\n",
    "import selenium.webdriver.support.ui as UI\n",
    "import pandas as pd \n",
    "import time"
   ]
  },
  {
   "cell_type": "code",
   "execution_count": 62,
   "metadata": {},
   "outputs": [],
   "source": [
    "driver = webdriver.Chrome()\n",
    "driver.get(\"https://www.autoscout24.com/\")"
   ]
  },
  {
   "cell_type": "code",
   "execution_count": 40,
   "metadata": {},
   "outputs": [],
   "source": [
    "nameCarVal, nameCar = [], []\n",
    "select = UI.Select(driver.find_element(\"id\", \"make\"))\n",
    "for option in select.options:\n",
    "    val = option.get_attribute('value')\n",
    "    if val != \"\":\n",
    "        nameCarVal.append(val)  \n",
    "        nameCar.append(option.text)\n"
   ]
  },
  {
   "cell_type": "code",
   "execution_count": 70,
   "metadata": {},
   "outputs": [],
   "source": [
    "model_data = {}\n",
    "\n",
    "for name in nameCar:\n",
    "    modelName = []\n",
    "    time.sleep(5)\n",
    "    Select(WebDriverWait(driver, 30).until(EC.element_to_be_clickable((By.CSS_SELECTOR, \"#make\")))).select_by_visible_text(name)\n",
    "    time.sleep(5)\n",
    "    select = UI.Select(driver.find_element(By.CSS_SELECTOR, \"#model\"))\n",
    "    for option in select.options:\n",
    "        try:\n",
    "            modelName.append(option.text)\n",
    "        except:\n",
    "            pass\n",
    "    model_data[name] = modelName"
   ]
  },
  {
   "cell_type": "code",
   "execution_count": 71,
   "metadata": {},
   "outputs": [],
   "source": [
    "dict = {'model_data': model_data}  \n",
    "       \n",
    "model_df = pd.DataFrame(dict) \n",
    "\n",
    "for i in range(0, len(model_data)):\n",
    "    model_df[\"model_data\"][i].remove(\"Model\")"
   ]
  },
  {
   "cell_type": "code",
   "execution_count": 58,
   "metadata": {},
   "outputs": [],
   "source": [
    "# audi = [\"A1\", \"A2\", \"A3\", \"A4\", \"A5\", \"A6\", \"A7\", \"A8\"]\n",
    "# model_df[\"model_data\"][\"Audi\"].extend(audi)"
   ]
  },
  {
   "cell_type": "code",
   "execution_count": 72,
   "metadata": {},
   "outputs": [
    {
     "data": {
      "text/plain": [
       "['100',\n",
       " '200',\n",
       " '50',\n",
       " '80',\n",
       " '90',\n",
       " 'A1',\n",
       " 'A2',\n",
       " 'A3',\n",
       " 'A4',\n",
       " 'A4 allroad',\n",
       " 'A5',\n",
       " 'A6',\n",
       " 'A6 allroad',\n",
       " 'A7',\n",
       " 'A8',\n",
       " 'Allroad',\n",
       " 'Cabriolet',\n",
       " 'Coupe',\n",
       " 'e-tron',\n",
       " 'e-tron GT',\n",
       " 'Q1',\n",
       " 'Q2',\n",
       " 'Q3',\n",
       " 'Q4 e-tron',\n",
       " 'Q5',\n",
       " 'Q7',\n",
       " 'Q8',\n",
       " 'QUATTRO',\n",
       " 'R8',\n",
       " 'RS',\n",
       " 'RS Q3',\n",
       " 'RS Q5',\n",
       " 'RS Q8',\n",
       " 'RS2',\n",
       " 'RS3',\n",
       " 'RS4',\n",
       " 'RS5',\n",
       " 'RS6',\n",
       " 'RS7',\n",
       " 'S1',\n",
       " 'S2',\n",
       " 'S3',\n",
       " 'S4',\n",
       " 'S5',\n",
       " 'S6',\n",
       " 'S7',\n",
       " 'S8',\n",
       " 'SQ2',\n",
       " 'SQ3',\n",
       " 'SQ5',\n",
       " 'SQ7',\n",
       " 'SQ8',\n",
       " 'TT',\n",
       " 'TT RS',\n",
       " 'TTS',\n",
       " 'V8',\n",
       " 'Others']"
      ]
     },
     "execution_count": 72,
     "metadata": {},
     "output_type": "execute_result"
    }
   ],
   "source": [
    "model_df[\"model_data\"][\"Audi\"]"
   ]
  },
  {
   "cell_type": "code",
   "execution_count": 60,
   "metadata": {},
   "outputs": [],
   "source": [
    "model_df.to_csv('csv_files/modelCarName.csv') \n",
    "model_df.to_json ('json_files/carModelName.json')"
   ]
  },
  {
   "cell_type": "code",
   "execution_count": null,
   "metadata": {},
   "outputs": [],
   "source": []
  },
  {
   "cell_type": "code",
   "execution_count": null,
   "metadata": {},
   "outputs": [],
   "source": []
  },
  {
   "cell_type": "code",
   "execution_count": null,
   "metadata": {},
   "outputs": [],
   "source": []
  },
  {
   "cell_type": "code",
   "execution_count": null,
   "metadata": {},
   "outputs": [],
   "source": []
  }
 ],
 "metadata": {
  "kernelspec": {
   "display_name": "Python 3.8.10 ('venv': venv)",
   "language": "python",
   "name": "python3"
  },
  "language_info": {
   "codemirror_mode": {
    "name": "ipython",
    "version": 3
   },
   "file_extension": ".py",
   "mimetype": "text/x-python",
   "name": "python",
   "nbconvert_exporter": "python",
   "pygments_lexer": "ipython3",
   "version": "3.8.10"
  },
  "orig_nbformat": 4,
  "vscode": {
   "interpreter": {
    "hash": "9923791b055afb4ea62d69e33878189ee084690ef2405a5236848c8bf86de20d"
   }
  }
 },
 "nbformat": 4,
 "nbformat_minor": 2
}
